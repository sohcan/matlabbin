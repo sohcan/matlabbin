{
 "cells": [
  {
   "cell_type": "markdown",
   "metadata": {},
   "source": [
    "## Homework 5"
   ]
  },
  {
   "cell_type": "markdown",
   "metadata": {},
   "source": [
    "**1. Smartness**\n",
    "(A)\n",
    "\n",
    "Let: $A = D - C_{U} - C_{L}$. Jacobi with: $D = diag(A),\\ Q=D$\n",
    "\n",
    "$ x^{(k)} = Q^{-1}(Q-A)x^{(k-1)} + Q^{-1}b\\quad$ (Iterative Form)\n",
    "\n",
    "$\\rightarrow\\quad x^{(k)} = D^{-1}(D-(D-C_{U}-C_{L})x^{(k-1)}+ D^{-1} b $\n",
    "\n",
    "$\\rightarrow\\quad x^{(k)} = D^{-1}(C_{U}+C_{L})x^{(k-1)} + D^{-1} b $\n",
    "\n",
    "$\\rightarrow\\quad x^{(k)} = D^{-1}C_{U}x^{(k-1)}+D^{-1}C_{L}x^{(k-1)} + D^{-1} b $\n",
    "\n",
    "We know since D is diagonal:\n",
    "$\\quad \\:D = \\begin{bmatrix}\n",
    "a_{11} & 0 & \\cdots & \\cdots & 0 \\\\\n",
    "0 & \\ddots & \\vdots & \\vdots & \\vdots \\\\\n",
    "0 & \\vdots & a_{ii} & \\vdots & 0 \\\\\n",
    "\\vdots & \\vdots & \\vdots & \\ddots & \\vdots \\\\\n",
    "0 & \\cdots & \\cdots & \\cdots & a_{nn} \\\\\n",
    "\\end{bmatrix} \n",
    "\\quad \\:D^{-1} = \\begin{bmatrix}\n",
    "\\dfrac 1 {a_{11}} & 0 & \\cdots & \\cdots & 0 \\\\\n",
    "0 & \\ddots & \\vdots &\\vdots & \\vdots \\\\\n",
    "\\vdots & \\vdots & \\dfrac 1 a_{ii} & \\vdots & \\vdots \\\\\n",
    "\\vdots & \\vdots & \\vdots & \\ddots & \\vdots \\\\\n",
    "0 & \\cdots & \\cdots & \\cdots & \\dfrac 1 {a_{nn}} \\\\\n",
    "\\end{bmatrix}$\n",
    "\n",
    "$\\rightarrow\\quad \\Large x^{(k)} = \\frac{C_{U}x^{(k-1)}}{D}+\\frac{C_{L}x^{(k-1)}}{D} + \\frac{b}{D} \\quad \\small(abusing\\ notation)$ \n",
    "\n",
    "We know: if $\\:\\tilde{a_{ij}} \\in (C_{u}\\vee\\ C_{l})\\:\\rightarrow\\: (\\tilde{a_{ij}} = -a_{ij} \\in A)$\n",
    "\n",
    "So row-by-row:\n",
    "\n",
    "$$\\large\\therefore\\quad x_{i}^{(k)} = -\\dfrac 1 {a_{ii}}\\sum_{j=i+1}^{n} a_{ij}x_{j}^{(k-1)} -\\dfrac 1 {a_{ii}}\\sum_{j=1}^{i-1} a_{ij}x_{j}^{(k-1)} + \\frac{b_{i}}{a_{ii}}$$"
   ]
  },
  {
   "cell_type": "markdown",
   "metadata": {},
   "source": [
    "**1. Smartness** \n",
    "(B)\n",
    "\n",
    "Let: $A = D - C_{U} - C_{L}$. Gauss - Seidel with: $Q = D-C_{L}$\n",
    "\n",
    "$ x^{(k)} = Q^{-1}(Q-A)x^{(k-1)} + Q^{-1}b\\quad$ (Iterative Form)\n",
    "\n",
    "$\\rightarrow\\quad x^{(k)} = (D - C_{L})^{-1}(D - C_{L} -(D-C_{U}-C_{L})\\ )x^{(k-1)}+ (D-C_{L})^{-1}b $\n",
    "\n",
    "$\\rightarrow\\quad x^{(k)} = (D - C_{L})^{-1}C_{U}x^{(k-1)}+ (D-C_{L})^{-1}b $\n",
    "\n",
    "$\\rightarrow\\quad (D-C_{L})x^{(k)} = (D-C_{L})(D - C_{L})^{-1}C_{U}x^{(k-1)}+ (D-C_{L})(D-C_{L})^{-1}b $\n",
    "\n",
    "$\\rightarrow\\quad Dx^{(k)}-C_{L}x^{(k)} = C_{U}x^{(k-1)} + b $\n",
    "\n",
    "$\\rightarrow\\quad Dx^{(k)}= C_{L}x^{(k)} + C_{U}x^{(k-1)} + b $\n",
    "\n",
    "$\\rightarrow\\quad D^{-1}Dx^{(k)}= D^{-1}C_{L}x^{(k)} + D^{-1}C_{U}x^{(k-1)} + D^{-1}b $\n",
    "\n",
    "Again, since D is diagonal: $if\\:D_{ii} = d_{ii} \\:\\rightarrow\\: D^{-1}_{ii} = \\dfrac 1 {d_{ii}}$\n",
    "\n",
    "\n",
    "$\\rightarrow\\quad \\Large x^{(k)} = \\frac{C_{L}x^{(k)}}{D}+\\frac{C_{U}x^{(k-1)}}{D} + \\frac{b}{D} \\quad \\small(abusing\\ notation)$ \n",
    "\n",
    "We know: if $\\:\\tilde{a_{ij}} \\in (C_{u}\\vee\\ C_{l})\\:\\rightarrow\\: (\\tilde{a_{ij}} = -a_{ij} \\in A)$\n",
    "\n",
    "So row-by-row:\n",
    "\n",
    "$$\\large\\therefore\\quad x_{i}^{(k)} = -\\dfrac 1 {a_{ii}}\\sum_{j=1}^{i-1} a_{ij}x_{j}^{(k)} -\\dfrac 1 {a_{ii}}\\sum_{j=i+1}^{n} a_{ij}x_{j}^{(k-1)} + \\frac{b_{i}}{a_{ii}}$$"
   ]
  },
  {
   "cell_type": "markdown",
   "metadata": {},
   "source": [
    "**2. Jacobi and System Size**\n",
    "<br>**Save**```generate_SPD_mat_and_rhs_vec.m```** in working directory.**\n",
    "<br>**Save as** ```my_jacobi.m```** in working directory:**\n",
    "```\n",
    "function x = my_jacobi(A,b, tot_it)\n",
    "n = length(A);\n",
    "x = zeros(n,1); %initial guess x = 0\n",
    "y = zeros(n,1); %will store x(K)-guess in y\n",
    "for k = 1:tot_it\n",
    "for i = 1:n;\n",
    "    subs = b(i);\n",
    "    for j = 1:(i-1) %subtract all elements left of diagonal from b(i) with guess for \"x\"\n",
    "        subs = subs - A(i,j)*x(j);\n",
    "    end\n",
    "    for j = (i+1):n %subract all elements right of diagonal from b(i) with guess for \"x\"\n",
    "        subs = subs - A(i,j)*x(j);\n",
    "    end\n",
    "    subs = subs/A(i,i); %divide out a(ii) diagonal element\n",
    "    y(i) = subs; %store entire x(K) for use on next iteration\n",
    "end\n",
    "x = y; %save final x(K) as output for function\n",
    "end\n",
    "```"
   ]
  },
  {
   "cell_type": "code",
   "execution_count": 1,
   "metadata": {},
   "outputs": [
    {
     "name": "stdout",
     "output_type": "stream",
     "text": [
      "     N          Err_Jacobi    \n",
      "    ____    __________________\n",
      "      10    0.0474575378417438\n",
      "     100      8.85586090731747\n",
      "     500      21.8760710043518\n",
      "    1000        31.28456699407\n"
     ]
    }
   ],
   "source": [
    "script_q2;\n",
    "disp(array2table([N;err_jacobi]','VariableNames',{'N','Err_Jacobi'}))"
   ]
  },
  {
   "cell_type": "markdown",
   "metadata": {},
   "source": [
    "**2. Notes:** The error when using the Jacobi iterative method goes up substantially as 'n' becomes larger. This makes sense when considering that the error is being computed as the Euclidean norm (distance) from x to x-guess. Many small component-wise x(i) errors are squared, summed, then the square root is found. Less components, would imply in general less sums, squares and square roots of component-wise errors. So the 2 norm ought to go up for larger x-guesses."
   ]
  },
  {
   "cell_type": "markdown",
   "metadata": {},
   "source": [
    "**3. Throwing the Kitchen Sink**\n",
    "<br>**Save** ```generate_SPD_mat_and_rhs_vec.m``` **in working directory.**\n",
    "<br>**Save as** ```my_gauss_seidel.m``` **in working directory:**\n",
    "```\n",
    "function x = my_gauss_siedel(A,b, tot_it)\n",
    "n = length(A);\n",
    "x = zeros(n,1); % initial guess x = 0\n",
    "for k = 1:tot_it\n",
    "for i = 1:n;\n",
    "    subs = b(i);\n",
    "    for j = 1:(i-1) %subtract entries left of diagonal from b(i)\n",
    "        subs = subs - A(i,j)*x(j); %NOTICE all x(j)'s for j < i are the newest \"guess\"\n",
    "    end\n",
    "    for j = (i+1):n %subtract entries\n",
    "        subs = subs - A(i,j)*x(j); %NOTICE all x(j)'s for j > i have not been updated, old \"guess\"\n",
    "    end\n",
    "    subs = subs/A(i,i);\n",
    "    x(i) = subs; %NOTICE each x-\"new guess\" for i=j is updated and used on the next loop for j < i\n",
    "end\n",
    "end\n",
    "```\n",
    "<br>**Save as** ```my_cg.m```** in working directory:**\n",
    "```\n",
    "function x = my_cg(A,b,tot_it)\n",
    "n = length(A);\n",
    "x = zeros(n,1);\n",
    "r = b - A*x;\n",
    "s = r;\n",
    "for k = 1:tot_it;\n",
    "    alpha = (r'*r)/(s'*(A*s)); \n",
    "    x = x + alpha*s; %moving toward \"new\" x in s direction\n",
    "    r_old = r;\n",
    "    r = r-alpha*(A*s); %calculating new residual = -gradient\n",
    "    beta = (r'*r)/(r_old'*r_old);\n",
    "    s = r + beta*s;\n",
    "end\n",
    "x;\n",
    "end\n",
    "```\n"
   ]
  },
  {
   "cell_type": "code",
   "execution_count": 2,
   "metadata": {},
   "outputs": [
    {
     "name": "stdout",
     "output_type": "stream",
     "text": [
      "    Iterations       Err_Jacobi            Err_GS                Err_CG       \n",
      "    __________    ________________    ________________    ____________________\n",
      "         10        31.529302707676    31.4823535620922        31.4115307669563\n",
      "        100         31.28456699407    31.1348717857157        29.4383235897481\n",
      "       1000       30.4948330807809    30.0063905725711    1.21290462145845e-11\n",
      "      10000       27.8484811908435    26.1158351182117    1.21576181871267e-11\n"
     ]
    }
   ],
   "source": [
    "script_q3;\n",
    "disp(array2table([tot_its;err_jacobi';err_gs';err_cg']','VariableNames',{'Iterations','Err_Jacobi','Err_GS','Err_CG'}))"
   ]
  },
  {
   "cell_type": "markdown",
   "metadata": {},
   "source": [
    "**3. Notes:** Clearly Jacobi and Gauss-Seidel both move slowly towards reducing the error in our calculated x. However the Conjugate gradient method converges substantially faster.\n",
    "<br>Indeed it is easy to see a pattern that with CG, if the amount of iterations is roughly equal to n \n",
    "you will have a very good approximation of x <br>with x-\"guess\"."
   ]
  },
  {
   "cell_type": "markdown",
   "metadata": {},
   "source": [
    "**4.Cost?**\n",
    "<br>**a. , b. , c.** (see attached)"
   ]
  }
 ],
 "metadata": {
  "kernelspec": {
   "display_name": "Matlab",
   "language": "matlab",
   "name": "matlab"
  },
  "language_info": {
   "codemirror_mode": "octave",
   "file_extension": ".m",
   "help_links": [
    {
     "text": "MetaKernel Magics",
     "url": "https://github.com/calysto/metakernel/blob/master/metakernel/magics/README.md"
    }
   ],
   "mimetype": "text/x-octave",
   "name": "matlab",
   "version": "0.16.1"
  }
 },
 "nbformat": 4,
 "nbformat_minor": 2
}
