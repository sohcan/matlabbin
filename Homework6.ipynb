{
 "cells": [
  {
   "cell_type": "markdown",
   "metadata": {},
   "source": [
    "### Homework 6\n",
    "**1. Plot**"
   ]
  },
  {
   "cell_type": "code",
   "execution_count": 1,
   "metadata": {},
   "outputs": [
    {
     "name": "stdout",
     "output_type": "stream",
     "text": [
      "f =\n",
      "  function_handle with value:\n",
      "    @(x)x-4*sin(2*x)+3.245892718783470\n"
     ]
    },
    {
     "data": {
      "image/png": "[encoded data removed]",
      "text/plain": [
       "<IPython.core.display.Image object>"
      ]
     },
     "metadata": {},
     "output_type": "display_data"
    }
   ],
   "source": [
    "%plot inline\n",
    "intv = [-3*pi pi];\n",
    "f = @(x) x - 4*sin(2*x) + 3.245892718783470\n",
    "l = @(x) x;\n",
    "\n",
    "\n",
    "fplot(f, intv); \n",
    "hold on\n",
    "fplot(l(0), intv);\n",
    "grid on\n",
    "\n",
    "title('x - 4*sin(2*x) + 3.245892718783470')\n",
    "xlabel('X')\n",
    "ylabel('Y')"
   ]
  },
  {
   "cell_type": "markdown",
   "metadata": {},
   "source": [
    "**Comments:** From inspection it appears there are approximately 6 (possibly 7 around x=1) zeros for the function."
   ]
  },
  {
   "cell_type": "markdown",
   "metadata": {},
   "source": [
    "**2A. Algorithms: Bisection**\n",
    "Save as `biseQ.m`\n",
    "``` \n",
    "function [x,delt_x,i] = biseQ(f,brac,TOL,err)\n",
    "\n",
    "    a = min(brac);\n",
    "    b = max(brac);\n",
    "\n",
    "%input 4\n",
    "if nargin < 4\n",
    "    err = eps;    %f(x)-tolerance, default to machine epsilon if no input\n",
    "end\n",
    "\n",
    "%input 3\n",
    "if nargin < 3\n",
    "    TOL = eps;    %delta(x)-tolerance, default to machine epsilon if no input (hazardous)\n",
    "end\n",
    "\n",
    "i = 1;\n",
    "while abs(b-a) > TOL       %will stop iterating when delta-x tolerance is met\n",
    "    x(i) = (b-a)/2 + a;    %selecting midpoint\n",
    "    delt_x(i) = (b-a)/2;   %storing initial error\n",
    "    if abs(f(x(i)))<=err   %will stop iterating when f(x) tolerance is met\n",
    "        return\n",
    "    end\n",
    "if sign(f(x(i))) == sign(f(a))  %will \"toe-in\" ensuring x=0 is contained in new interval eg. f(a)f(b)<0\n",
    "        a = x(i);\n",
    "    else\n",
    "        b = x(i);\n",
    "        end\n",
    "i = i + 1;\n",
    "end\n",
    "i=i-1;\n",
    "end\n",
    "````\n",
    "        \n",
    "**2B. Algorithms: Newton**\n",
    "<br>Save as `NxtxN.m`\n",
    "```\n",
    "function [x,i] = NxtxN(f,gues,TOL,err)\n",
    "\n",
    "%input 4\n",
    "if nargin < 4  %default F(x) tolerance\n",
    "    err = eps;\n",
    "end\n",
    "\n",
    "%input 3\n",
    "if nargin < 3  %default delta(x) tolerance (hazardous)\n",
    "    TOL = eps;\n",
    "end\n",
    "\n",
    "%input 2\n",
    "if nargin < 2 %default guess around origin (hazardous)\n",
    "    x(1) = 0;\n",
    "else\n",
    "    x(1) = gues;\n",
    "end\n",
    "\n",
    "\n",
    "%input 1, valid use since using newton implies we know df/dx\n",
    "Df = sym(f); f = horner(Df); f = matlabFunction(f);  %changes f to nested polynomial\n",
    "Df = diff(Df); Df = horner(Df); Df = matlabFunction(Df);  %differntiates f to nested polynomial\n",
    "\n",
    "\n",
    "\n",
    "%plot for fun when function is used standalone\n",
    "    %fplot(f,[-gues gues],'LineWidth',1)\n",
    "    %hold on\n",
    "    %line([-gues gues],[0 0])\n",
    "\n",
    "\n",
    "i = 1;\n",
    "while abs( f(x(i)) / Df(x(i)) ) > max(eps(x(i)),TOL)  %will stop if x+h = x in float for small-h or TOL is met\n",
    "    Y = f(x(i)); m = Df(x(i)); xnot = x(i);\n",
    "    \n",
    "    if abs(Y) <= err  %will stop if f(x) tolerance met\n",
    "        return\n",
    "    end\n",
    "    \n",
    "    x(i+1) = xnot-[Y/m]; %iteration from x(i) to x(i+1), step size |h| = |f*(Df)^-1|\n",
    "    \n",
    "    \n",
    "%plot for fun optional\n",
    "    %pops = @(t) Y + (t-xnot)*m\n",
    "    %if x(i) < x(i+1)\n",
    "       %range = [x(i),x(i+1)]\n",
    "    %else\n",
    "        %range = [x(i+1),x(i)]\n",
    "    %end\n",
    "        %fplot(pops,range)\n",
    "\n",
    "    i = i+1;\n",
    "    end\n",
    "i=i-1;\n",
    "end\n",
    "```\n",
    "\n",
    "**2C. Algorithms: Secant**\n",
    "<br>Save as `SxCxnT.m`\n",
    "```\n",
    "function [x,i] = SxCxnT(f,brac,TOL,err)\n",
    "\n",
    "%input 4\n",
    "if nargin < 4\n",
    "    err = eps; %sets default f(x) tolerance\n",
    "end\n",
    "\n",
    "%input 3\n",
    "if nargin < 3\n",
    "    TOL = eps; %default delta(x) tolerance\n",
    "end\n",
    "\n",
    "%input 2\n",
    "if nargin < 2\n",
    "    x(1) = -1; x(2) = 1;\n",
    "else\n",
    "    x(1)=min(brac); x(2) = max(brac); %sets left most and rightmost endpoints\n",
    "end\n",
    "\n",
    "%input 1\n",
    "Df = sym(f);\n",
    "f = horner(Df); f = matlabFunction(f); %nested polynomial from function\n",
    "\n",
    "i = 2;\n",
    "while abs(x(i)-x(i-1)) > TOL\n",
    "    \n",
    "    if abs(f(x(i))) > abs(f(x(i-1)))   %nifty swaps a-b and fa-fb to keep |f(x_n)|<|f(x_n-1)|, Cheney/Kincaid\n",
    "    x1 = x(i);\n",
    "    x0 = x(i-1);\n",
    "    f1 = f(x(i));\n",
    "    f0 = f(x(i-1));\n",
    "    else\n",
    "    x0 = x(i);\n",
    "    x1 = x(i-1);\n",
    "    f0 = f(x(i));\n",
    "    f1 = f(x(i-1));\n",
    "    end\n",
    "    \n",
    "    if abs(f0)<err   %stops evaultion if f(x) tolerance met\n",
    "        return\n",
    "    end\n",
    "    \n",
    "    x(i+1) = x0 - f0*[x0-x1]/[f0 - f1];   %iterating as in newton, but Df^-1 = (difference quotient)^-1\n",
    "    \n",
    "    i = i + 1;\n",
    "    end\n",
    "i=i-2;\n",
    "end\n",
    "```"
   ]
  },
  {
   "cell_type": "markdown",
   "metadata": {},
   "source": [
    "**3.Using Methods**"
   ]
  },
  {
   "cell_type": "code",
   "execution_count": 2,
   "metadata": {},
   "outputs": [
    {
     "name": "stdout",
     "output_type": "stream",
     "text": [
      "B_0 =\n",
      "  -4.546767488750631\n",
      "    33\n",
      "N_0 =\n",
      "  -4.546767488788789\n",
      "     4\n",
      "S_0 =\n",
      "  -4.546767488787903\n",
      "     6\n",
      "Tru_root =\n",
      "  -4.546767488787903\n"
     ]
    }
   ],
   "source": [
    "TOL = 10^(-10);\n",
    "brac = [-4.8 -4.2];\n",
    "guess = -4.2;\n",
    "\n",
    "format long\n",
    "\n",
    "[B_root, delt_x,i1]= biseQ(f,brac,TOL); B_0 = B_root(end), disp(i1)\n",
    "[N_root,i2] = NxtxN(f,guess,TOL); N_0 = N_root(end), disp(i2)\n",
    "[S_root,i3] = SxCxnT(f,brac,TOL); S_0 = S_root(end), disp(i3)\n",
    "Tru_root=fzero(f, -4.2)"
   ]
  },
  {
   "cell_type": "markdown",
   "metadata": {},
   "source": [
    "**3.Comments:**\n",
    "<br> With the given tolerances and starting points (guess for Newton)\n",
    "<br>Bisection computed -4.54676748875063 as a root in 33 iterations.\n",
    "<br>Newton computed -4.54676748878879 as a root in just 4 iterations.\n",
    "<br>Secant computed -4.5467674887879 as a root in 6 iterations. \n",
    "<br>*But secant got the matlab \"true\" fzero root with the given tolerance and initial guesses (endpoints).*"
   ]
  },
  {
   "cell_type": "markdown",
   "metadata": {},
   "source": [
    "**4.Convergence**"
   ]
  },
  {
   "cell_type": "code",
   "execution_count": 3,
   "metadata": {},
   "outputs": [
    {
     "name": "stdout",
     "output_type": "stream",
     "text": [
      "Tru_root =\n",
      "  -4.546767488787903\n",
      "Newton =\n",
      "  5x3 table\n",
      "    Iter           Error              Conv_Rate_R2   \n",
      "    ____    ____________________    _________________\n",
      "     0         0.346767488787902                    0\n",
      "     1         0.131335054107858     1.09220437173923\n",
      "     2       0.00238419649199173    0.138223132165513\n",
      "     3      1.70827134660101e-06    0.300519575778594\n",
      "     4      8.86402062860725e-13    0.303750530653838\n",
      "Secant =\n",
      "  8x3 table\n",
      "    Iter           Error             Conv_Rate_R162  \n",
      "    ____    ____________________    _________________\n",
      "     0         0.253232511212097                    0\n",
      "     0         0.346767488787902      3.2001044808794\n",
      "     1        0.0332250356698962    0.184373712760645\n",
      "     2       0.00721376012840835     1.78024937934442\n",
      "     3      7.71031856947602e-05    0.225236875845941\n",
      "     4      1.66257663636316e-07    0.750997426907802\n",
      "     5      3.89466237038505e-12    0.362639814920466\n",
      "     6                         0                    0\n",
      "Bisection =\n",
      "  33x3 table\n",
      "    Iter           Error              Conv_Rate_R1   \n",
      "    ____    ____________________    _________________\n",
      "      1                      0.3                    0\n",
      "      2                     0.15                  0.5\n",
      "      3       0.0750000000000002    0.500000000000001\n",
      "      4       0.0375000000000001                  0.5\n",
      "      5       0.0187500000000003    0.500000000000006\n",
      "      6      0.00937500000000036    0.500000000000012\n",
      "      7      0.00468750000000018                  0.5\n",
      "      8      0.00234375000000009                  0.5\n",
      "      9      0.00117187499999982    0.499999999999905\n",
      "     10     0.000585937499999911                  0.5\n",
      "     11     0.000292968750000178    0.500000000000379\n",
      "     12     0.000146484375000089                  0.5\n",
      "     13     7.32421874998224e-05    0.499999999998484\n",
      "     14     3.66210937499112e-05                  0.5\n",
      "     15     1.83105468747335e-05    0.499999999993937\n",
      "     16     9.15527343714473e-06    0.499999999987873\n",
      "     17     4.57763671857236e-06                  0.5\n",
      "     18     2.28881835928618e-06                  0.5\n",
      "     19     1.14440917942105e-06    0.499999999902987\n",
      "     20     5.72204589488479e-07    0.499999999805974\n",
      "     21     2.86102294744239e-07                  0.5\n",
      "     22      1.4305114737212e-07                  0.5\n",
      "     23     7.15255739081044e-08    0.500000001552204\n",
      "     24     3.57627869540522e-08                  0.5\n",
      "     25     1.78813936990707e-08    0.500000006208817\n",
      "     26     8.94069662749075e-09    0.499999987582366\n",
      "     27     4.47034809170077e-09    0.499999975164731\n",
      "     28     2.23517382380578e-09     0.49999995032946\n",
      "     29     1.11758691190289e-09                  0.5\n",
      "     30     5.58793455951445e-10                  0.5\n",
      "     31     2.79396505931118e-10    0.499999602635638\n",
      "     32     1.39698030920954e-10    0.499999205270645\n",
      "     33     6.98490154604769e-11                  0.5\n"
     ]
    }
   ],
   "source": [
    "Tru_root=fzero(f, -4.2)\n",
    "\n",
    "N_err = abs(N_root'-Tru_root);\n",
    "S_err = abs(S_root'-Tru_root);\n",
    "B_err = abs(delt_x)';\n",
    "\n",
    "N_err_lim = abs(N_err(2:end))./abs(N_err(1:end-1)).^2;\n",
    "S_err_lim = abs(S_err(2:end))./abs(S_err(1:end-1)).^1.618033988749895;\n",
    "B_err_lim = abs(B_err(2:end))./abs(B_err(1:end-1));\n",
    "\n",
    "TableN = [[0:i2]',N_err,[0;N_err_lim]];\n",
    "TableS = [[0,[0:i3]]',S_err,[0;S_err_lim]];\n",
    "TableB = [[1:i1]',[B_err],[0;B_err_lim]];\n",
    "\n",
    "format long\n",
    "Newton = array2table(TableN,'VariableNames',{'Iter','Error','Conv_Rate_R2'})\n",
    "Secant = array2table(TableS,'VariableNames',{'Iter','Error','Conv_Rate_R162'})\n",
    "Bisection = array2table(TableB,'VariableNames',{'Iter','Error','Conv_Rate_R1'})"
   ]
  },
  {
   "cell_type": "markdown",
   "metadata": {},
   "source": [
    "**4.Comments:**\n",
    "<br>It is exceptionally difficult to estimate the rate of convergence \n",
    "<br>for Secant and Newton because they do so at a rapid pace.\n",
    "<br>However, the estimations both in class and in Kincaid/Cheney seem to fit\n",
    "<br>the data. Newton with an r = 2 (quadratic convergence) seems to show lim(ek+1/ek)\n",
    "<br>approaching a non-zero real number.\n",
    "<br>Likewise Secant with an r = 1.62ish (nearly quadratic/super linear) seems to behave\n",
    "<br>similarly.\n",
    "<br>Bisection method clearly has a linear rate of convergence since it halfs its error\n",
    "<br>on every iteration. r = 1 by inspection.\n",
    "<br>Notice that when viewing the actual error per iteration, Newton doubles the amount of <br>precision (comparing leading zeros after decimal) every iteration. \n",
    "<br>\n",
    "<br>**For Newton** by trial and error using r=3 for newton will show divergence in the limit, r = 1 will show convergence to 0.\n",
    "<br>**For Secant** by trial and error using r=1 shows convergence to zero, r=2 will show divergence in the limit."
   ]
  },
  {
   "cell_type": "markdown",
   "metadata": {},
   "source": [
    "**5.Newton Again:**"
   ]
  },
  {
   "cell_type": "code",
   "execution_count": 4,
   "metadata": {},
   "outputs": [
    {
     "name": "stdout",
     "output_type": "stream",
     "text": [
      "Tru_root =\n",
      "   0.722734247813416\n",
      "Newton2 =\n",
      "  27x4 table\n",
      "    Iter           Error              Conv_Rate_R2        Conv_Rate_R1   \n",
      "    ____    ____________________    ________________    _________________\n",
      "      0        0.277265752186584                   0                    0\n",
      "      1        0.136660889889723    1.77767263286823    0.492887739693715\n",
      "      2        0.068295123022737    3.65679995490666    0.499741535986243\n",
      "      3       0.0341919590044074    7.33068571754304    0.500650082920623\n",
      "      4        0.017113787891412    14.6385539222085     0.50052083559196\n",
      "      5      0.00856219708491546    29.2343155366379    0.500309875244632\n",
      "      6      0.00428253177418225    58.4157764284469    0.500167390648721\n",
      "      7      0.00214163770197473    116.773639437604    0.500086821278442\n",
      "      8      0.00107091349814414    233.486828029585    0.500044193822649\n",
      "      9     0.000535480622879558    466.911934347488    0.500022292937317\n",
      "     10      0.00026774630643267    933.761511009941    0.500011195536561\n",
      "     11     0.000133874655317556    1867.46034642955    0.500005610165986\n",
      "     12     6.69377037348928e-05    3734.85786372229    0.500002809165886\n",
      "     13     3.34689459700055e-05    7469.65279542891    0.500001405822934\n",
      "     14      1.6734496179116e-05    14939.2422890189    0.500000693003996\n",
      "     15     8.36725563235774e-06    29878.4286889724    0.500000450733601\n",
      "     16     4.18363054155435e-06    59756.7885682333    0.500000325719161\n",
      "     17     2.09182159982557e-06    119513.783027956    0.500001512812456\n",
      "     18     1.04592001792803e-06    239028.226276333    0.500004406692827\n",
      "     19     5.22993827134499e-07     478078.93992684    0.500032333419293\n",
      "     20     2.61480758934063e-07    955975.167001108    0.499969111235451\n",
      "     21     1.30849875823458e-07    1913788.06214328    0.500418754928174\n",
      "     22     6.54287438672796e-08    3821395.19263348    0.500029086428449\n",
      "     23     3.29338626370301e-08    7693173.10424446    0.503354652564255\n",
      "     24     1.67947045159877e-08    15484137.8042441    0.509952467497819\n",
      "     25     8.46618941618971e-09    30015338.5471246    0.504098741846295\n",
      "     26      5.1618705976253e-09    72016357.4845969    0.609704123528628\n"
     ]
    }
   ],
   "source": [
    "Tru_root=.722734247813416\n",
    "\n",
    "[N_root,i2] = NxtxN(f,1);\n",
    "\n",
    "N_err = abs(N_root'-Tru_root);\n",
    "N_err_lim = abs(N_err(2:end))./abs(N_err(1:end-1));\n",
    "N_err_lim2 = abs(N_err(2:end))./abs(N_err(1:end-1)).^2;\n",
    "\n",
    "TableN2 = [[0:i2]',N_err,[0;N_err_lim2],[0;N_err_lim]];\n",
    "Newton2 = array2table(TableN2,'VariableNames',{'Iter','Error','Conv_Rate_R2','Conv_Rate_R1'})"
   ]
  },
  {
   "cell_type": "markdown",
   "metadata": {},
   "source": [
    "**5.Comments:**\n",
    "<br>From the table it can be observed that the Netwon convergence rate near x=.722734(ish) <br>is nearly linear with an R=1.\n",
    "<br>An R = 2 (quadratic) leads to divergence in the limit(ek+1/ek).\n",
    "<br>This indicates that perhaps around our initial guess and near the root the given\n",
    "<br>function likely has a multiple root and that f'(x) is nearly zero. "
   ]
  }
 ],
 "metadata": {
  "kernelspec": {
   "display_name": "Matlab",
   "language": "matlab",
   "name": "matlab"
  },
  "language_info": {
   "codemirror_mode": "octave",
   "file_extension": ".m",
   "help_links": [
    {
     "text": "MetaKernel Magics",
     "url": "https://github.com/calysto/metakernel/blob/master/metakernel/magics/README.md"
    }
   ],
   "mimetype": "text/x-octave",
   "name": "matlab",
   "version": "0.16.1"
  }
 },
 "nbformat": 4,
 "nbformat_minor": 2
}
