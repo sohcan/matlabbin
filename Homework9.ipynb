{
 "cells": [
  {
   "cell_type": "markdown",
   "metadata": {},
   "source": [
    "#### Homework 9\n",
    "<br> **1.** Consider:\n",
    "$$A = \\begin{bmatrix}\n",
    "    1 & -3 & 3\\\\\n",
    "    2 & -2 & 2\\\\\n",
    "    2 & 0 & 0\\\\\n",
    "\\end{bmatrix}$$\n",
    "<br>**1a.** \n",
    "<br>(See Attached)\n",
    "<br>**1b.**"
   ]
  },
  {
   "cell_type": "code",
   "execution_count": 1,
   "metadata": {},
   "outputs": [
    {
     "name": "stdout",
     "output_type": "stream",
     "text": [
      "A =\n",
      "     1    -3     3\n",
      "     2    -2     2\n",
      "     2     0     0\n",
      "eig_vec_tru =\n",
      "        -0.333333333333333      2.81970303603256e-16        -0.707106781186548\n",
      "        -0.666666666666667         0.707106781186547     -6.33872908616881e-16\n",
      "        -0.666666666666667         0.707106781186547         0.707106781186547\n",
      "eig_val_tru =\n",
      "                         1                         0                         0\n",
      "                         0      1.11022302462516e-15                         0\n",
      "                         0                         0                        -2\n"
     ]
    }
   ],
   "source": [
    "clc, clear, close\n",
    "\n",
    "%a See Attached\n",
    "\n",
    "%b\n",
    "A = [1 -3 3; 2 -2 2; 2 0 0]\n",
    "[eig_vec_tru,eig_val_tru] = eig(A)"
   ]
  },
  {
   "cell_type": "markdown",
   "metadata": {},
   "source": [
    "**Comments:** The eigenvector associated with $\\lambda_1 = 1,\\ \\mathbf{u_1} = [1, 2, 2]^{T}$ is of opposite sign to the one <br>computed by hand. However, this is equivalent if $\\mathbf{A}\\mathbf{u_1} = \\lambda_1\\mathbf{u_1}$. Everything else agrees within $10^{-16}$ precision."
   ]
  },
  {
   "cell_type": "markdown",
   "metadata": {},
   "source": [
    "**1c.**\n",
    "<br>(See Attached)"
   ]
  },
  {
   "cell_type": "markdown",
   "metadata": {},
   "source": [
    "**2a.**\n",
    "Save as `power_method.m` in directory.\n",
    "<br>\n",
    "```\n",
    "function [eval, evec] = power_method(A,x,tol)\n",
    "\n",
    "[n,m] = size(x);\n",
    "    if length(x) > n\n",
    "        x = x';\n",
    "    end\n",
    "\n",
    "lambB = 0;\n",
    "lambA = inf;\n",
    "\n",
    "    while norm(lambB - lambA,inf) >= tol\n",
    "        x_new = A*x;\n",
    "        lambA = lambB; lambB = x_new(1)/x(1);\n",
    "        x = x_new/norm(x,inf);\n",
    "    end\n",
    "\n",
    "evec = x/norm(x,2); eval = lambB;\n",
    "end\n",
    "```\n",
    "<br>**2b.**"
   ]
  },
  {
   "cell_type": "code",
   "execution_count": 2,
   "metadata": {},
   "outputs": [
    {
     "name": "stdout",
     "output_type": "stream",
     "text": [
      "tol =\n",
      "                     0.001\n",
      "evectru =\n",
      "        -0.333333333333333      2.81970303603256e-16        -0.707106781186548\n",
      "        -0.666666666666667         0.707106781186547     -6.33872908616881e-16\n",
      "        -0.666666666666667         0.707106781186547         0.707106781186547\n",
      "evaltru =\n",
      "                         1                         0                         0\n",
      "                         0      1.11022302462516e-15                         0\n",
      "                         0                         0                        -2\n",
      "x =\n",
      "     1     1     1\n",
      "eig_val =\n",
      "     1\n",
      "eig_vec =\n",
      "         0.333333333333333\n",
      "         0.666666666666667\n",
      "         0.666666666666667\n",
      "x =\n",
      "     1    -1     1\n",
      "eig_val =\n",
      "         -2.00027468335114\n",
      "eig_vec =\n",
      "         0.707155332318325\n",
      "       6.4739040783507e-05\n",
      "         -0.70705822375715\n"
     ]
    }
   ],
   "source": [
    "A = [ 1 -3 3; 2 -2 2; 2 0 0 ];\n",
    "tol = 10^-3\n",
    "\n",
    "\n",
    "[evectru,evaltru] = eig(A)\n",
    "\n",
    "x = [1 1 1]\n",
    "[eig_val, eig_vec] = power_method(A,x,tol)\n",
    "\n",
    "x = [1 -1 1]\n",
    "[eig_val, eig_vec] = power_method(A,x,tol)"
   ]
  },
  {
   "cell_type": "markdown",
   "metadata": {},
   "source": [
    "**2c.**\n",
    "<br> (See Attached)"
   ]
  },
  {
   "cell_type": "markdown",
   "metadata": {},
   "source": [
    "**2d.** Consider:\n",
    "$$B = \\begin{bmatrix}\n",
    "    -3 & -2\\\\\n",
    "    4 & 3\\\\\n",
    "\\end{bmatrix}$$"
   ]
  },
  {
   "cell_type": "code",
   "execution_count": 3,
   "metadata": {},
   "outputs": [
    {
     "name": "stdout",
     "output_type": "stream",
     "text": [
      "***Computed Using power_method()***\n",
      "eig_val =\n",
      "          1.99977113562503\n",
      "eig_vec =\n",
      "        -0.242529094134135\n",
      "         0.970144132847525\n",
      "\n",
      "\n",
      "***Multiplying B*u and Eigval*u ***\n",
      "matrix_tmes_vec =\n",
      "        -0.485085944579256\n",
      "          1.94031602200604\n",
      "lambda_times_vec =\n",
      "        -0.485002681998728\n",
      "          1.94006623426445\n",
      "\n",
      "\n",
      "***Are they approximately equal within tol?***\n",
      "ans =\n",
      "  2x1 logical array\n",
      "   1\n",
      "   1\n",
      "\n",
      "\n",
      "***Using eig() to compute Matlab \"true\" eigen vecs and vals***\n",
      "eig_vec_tru =\n",
      "        -0.707106781186547         0.242535625036333\n",
      "         0.707106781186547        -0.970142500145332\n",
      "eig_val_tru =\n",
      "    -1     0\n",
      "     0     2\n"
     ]
    }
   ],
   "source": [
    "B = [-2 -1; 4 3];\n",
    "x = [1 1];\n",
    "\n",
    "\n",
    "fprintf('***Computed Using power_method()***\\n')\n",
    "[eig_val, eig_vec] = power_method(B,x,tol)\n",
    "\n",
    "fprintf('\\n\\n***Multiplying B*u and Eigval*u ***\\n')\n",
    "matrix_tmes_vec = B*eig_vec, lambda_times_vec = eig_vec*eig_val\n",
    "\n",
    "fprintf('\\n\\n***Are they approximately equal within tol?***\\n')\n",
    "abs(B*eig_vec-eig_vec*eig_val)<= tol\n",
    "\n",
    "fprintf('\\n\\n***Using eig() to compute Matlab \"true\" eigen vecs and vals***\\n')\n",
    "[eig_vec_tru,eig_val_tru] = eig(B)"
   ]
  },
  {
   "cell_type": "markdown",
   "metadata": {},
   "source": [
    "**Comments:** Again the sign is reversed on $\\mathbf{u_2} = [0.242535625036333, -0.970142500145332]^{T}$ when <br>computed using `power_method( )`. However with $\\ \\lambda_2 = 2\\ $ then $\\ \\mathbf{B}\\mathbf{u_2} = \\lambda_2\\mathbf{u_2}$. \n",
    "<br>When comparing to `eig(B)` this roughly confirms that `power_method( )` with initial guess $ \\mathbf{x} = [1, 1]^{T}$ does seem to converge \n",
    "<br>toward an eigenvector of $B$."
   ]
  }
 ],
 "metadata": {
  "kernelspec": {
   "display_name": "Matlab",
   "language": "matlab",
   "name": "matlab"
  },
  "language_info": {
   "codemirror_mode": "octave",
   "file_extension": ".m",
   "help_links": [
    {
     "text": "MetaKernel Magics",
     "url": "https://github.com/calysto/metakernel/blob/master/metakernel/magics/README.md"
    }
   ],
   "mimetype": "text/x-octave",
   "name": "matlab",
   "version": "0.16.1"
  }
 },
 "nbformat": 4,
 "nbformat_minor": 2
}
